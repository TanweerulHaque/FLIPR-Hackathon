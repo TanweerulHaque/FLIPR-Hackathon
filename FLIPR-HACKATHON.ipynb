{
 "cells": [
  {
   "cell_type": "code",
   "execution_count": 179,
   "metadata": {},
   "outputs": [],
   "source": [
    "import pandas as pd\n",
    "import seaborn as sns\n",
    "import matplotlib.pyplot as plt\n",
    "import numpy as np\n",
    "%matplotlib inline"
   ]
  },
  {
   "cell_type": "code",
   "execution_count": 180,
   "metadata": {},
   "outputs": [
    {
     "data": {
      "text/html": [
       "<div>\n",
       "<style scoped>\n",
       "    .dataframe tbody tr th:only-of-type {\n",
       "        vertical-align: middle;\n",
       "    }\n",
       "\n",
       "    .dataframe tbody tr th {\n",
       "        vertical-align: top;\n",
       "    }\n",
       "\n",
       "    .dataframe thead th {\n",
       "        text-align: right;\n",
       "    }\n",
       "</style>\n",
       "<table border=\"1\" class=\"dataframe\">\n",
       "  <thead>\n",
       "    <tr style=\"text-align: right;\">\n",
       "      <th></th>\n",
       "      <th>PLAYER</th>\n",
       "      <th>Mat</th>\n",
       "      <th>Inns</th>\n",
       "      <th>NO</th>\n",
       "      <th>2018_Runs</th>\n",
       "      <th>HS</th>\n",
       "      <th>Avg</th>\n",
       "      <th>BF</th>\n",
       "      <th>SR</th>\n",
       "      <th>100</th>\n",
       "      <th>50</th>\n",
       "      <th>4s</th>\n",
       "      <th>6s</th>\n",
       "      <th>2019_Runs</th>\n",
       "    </tr>\n",
       "  </thead>\n",
       "  <tbody>\n",
       "    <tr>\n",
       "      <th>0</th>\n",
       "      <td>Aaron Finch</td>\n",
       "      <td>10</td>\n",
       "      <td>9</td>\n",
       "      <td>1</td>\n",
       "      <td>134</td>\n",
       "      <td>46</td>\n",
       "      <td>16.75</td>\n",
       "      <td>100</td>\n",
       "      <td>134.00</td>\n",
       "      <td>0</td>\n",
       "      <td>0</td>\n",
       "      <td>6</td>\n",
       "      <td>8</td>\n",
       "      <td>160</td>\n",
       "    </tr>\n",
       "    <tr>\n",
       "      <th>1</th>\n",
       "      <td>AB de Villiers</td>\n",
       "      <td>12</td>\n",
       "      <td>11</td>\n",
       "      <td>2</td>\n",
       "      <td>480</td>\n",
       "      <td>90*</td>\n",
       "      <td>53.33</td>\n",
       "      <td>275</td>\n",
       "      <td>174.54</td>\n",
       "      <td>0</td>\n",
       "      <td>6</td>\n",
       "      <td>39</td>\n",
       "      <td>30</td>\n",
       "      <td>424</td>\n",
       "    </tr>\n",
       "    <tr>\n",
       "      <th>2</th>\n",
       "      <td>Abhishek Sharma</td>\n",
       "      <td>3</td>\n",
       "      <td>3</td>\n",
       "      <td>2</td>\n",
       "      <td>63</td>\n",
       "      <td>46*</td>\n",
       "      <td>63</td>\n",
       "      <td>33</td>\n",
       "      <td>190.90</td>\n",
       "      <td>0</td>\n",
       "      <td>0</td>\n",
       "      <td>3</td>\n",
       "      <td>5</td>\n",
       "      <td>63</td>\n",
       "    </tr>\n",
       "    <tr>\n",
       "      <th>3</th>\n",
       "      <td>Ajinkya Rahane</td>\n",
       "      <td>15</td>\n",
       "      <td>14</td>\n",
       "      <td>1</td>\n",
       "      <td>370</td>\n",
       "      <td>65*</td>\n",
       "      <td>28.46</td>\n",
       "      <td>313</td>\n",
       "      <td>118.21</td>\n",
       "      <td>0</td>\n",
       "      <td>1</td>\n",
       "      <td>39</td>\n",
       "      <td>5</td>\n",
       "      <td>396</td>\n",
       "    </tr>\n",
       "    <tr>\n",
       "      <th>4</th>\n",
       "      <td>Alex Hales</td>\n",
       "      <td>6</td>\n",
       "      <td>6</td>\n",
       "      <td>0</td>\n",
       "      <td>148</td>\n",
       "      <td>45</td>\n",
       "      <td>24.66</td>\n",
       "      <td>118</td>\n",
       "      <td>125.42</td>\n",
       "      <td>0</td>\n",
       "      <td>0</td>\n",
       "      <td>13</td>\n",
       "      <td>6</td>\n",
       "      <td>165</td>\n",
       "    </tr>\n",
       "    <tr>\n",
       "      <th>...</th>\n",
       "      <td>...</td>\n",
       "      <td>...</td>\n",
       "      <td>...</td>\n",
       "      <td>...</td>\n",
       "      <td>...</td>\n",
       "      <td>...</td>\n",
       "      <td>...</td>\n",
       "      <td>...</td>\n",
       "      <td>...</td>\n",
       "      <td>...</td>\n",
       "      <td>...</td>\n",
       "      <td>...</td>\n",
       "      <td>...</td>\n",
       "      <td>...</td>\n",
       "    </tr>\n",
       "    <tr>\n",
       "      <th>95</th>\n",
       "      <td>Virat Kohli</td>\n",
       "      <td>14</td>\n",
       "      <td>14</td>\n",
       "      <td>3</td>\n",
       "      <td>530</td>\n",
       "      <td>92*</td>\n",
       "      <td>48.18</td>\n",
       "      <td>381</td>\n",
       "      <td>139.10</td>\n",
       "      <td>0</td>\n",
       "      <td>4</td>\n",
       "      <td>52</td>\n",
       "      <td>18</td>\n",
       "      <td>488</td>\n",
       "    </tr>\n",
       "    <tr>\n",
       "      <th>96</th>\n",
       "      <td>Washington Sundar</td>\n",
       "      <td>7</td>\n",
       "      <td>6</td>\n",
       "      <td>3</td>\n",
       "      <td>65</td>\n",
       "      <td>35</td>\n",
       "      <td>21.66</td>\n",
       "      <td>38</td>\n",
       "      <td>171.05</td>\n",
       "      <td>0</td>\n",
       "      <td>0</td>\n",
       "      <td>5</td>\n",
       "      <td>4</td>\n",
       "      <td>64</td>\n",
       "    </tr>\n",
       "    <tr>\n",
       "      <th>97</th>\n",
       "      <td>Wriddhiman Saha</td>\n",
       "      <td>11</td>\n",
       "      <td>10</td>\n",
       "      <td>2</td>\n",
       "      <td>122</td>\n",
       "      <td>35</td>\n",
       "      <td>15.25</td>\n",
       "      <td>102</td>\n",
       "      <td>119.60</td>\n",
       "      <td>0</td>\n",
       "      <td>0</td>\n",
       "      <td>17</td>\n",
       "      <td>1</td>\n",
       "      <td>115</td>\n",
       "    </tr>\n",
       "    <tr>\n",
       "      <th>98</th>\n",
       "      <td>Yusuf Pathan</td>\n",
       "      <td>15</td>\n",
       "      <td>13</td>\n",
       "      <td>4</td>\n",
       "      <td>260</td>\n",
       "      <td>45*</td>\n",
       "      <td>28.88</td>\n",
       "      <td>200</td>\n",
       "      <td>130.00</td>\n",
       "      <td>0</td>\n",
       "      <td>0</td>\n",
       "      <td>22</td>\n",
       "      <td>11</td>\n",
       "      <td>296</td>\n",
       "    </tr>\n",
       "    <tr>\n",
       "      <th>99</th>\n",
       "      <td>Yuvraj Singh</td>\n",
       "      <td>8</td>\n",
       "      <td>6</td>\n",
       "      <td>0</td>\n",
       "      <td>65</td>\n",
       "      <td>20</td>\n",
       "      <td>10.83</td>\n",
       "      <td>73</td>\n",
       "      <td>89.04</td>\n",
       "      <td>0</td>\n",
       "      <td>0</td>\n",
       "      <td>6</td>\n",
       "      <td>2</td>\n",
       "      <td>67</td>\n",
       "    </tr>\n",
       "  </tbody>\n",
       "</table>\n",
       "<p>100 rows × 14 columns</p>\n",
       "</div>"
      ],
      "text/plain": [
       "               PLAYER  Mat  Inns  NO  2018_Runs   HS    Avg   BF      SR  100  \\\n",
       "0         Aaron Finch   10     9   1        134   46  16.75  100  134.00    0   \n",
       "1      AB de Villiers   12    11   2        480  90*  53.33  275  174.54    0   \n",
       "2     Abhishek Sharma    3     3   2         63  46*     63   33  190.90    0   \n",
       "3      Ajinkya Rahane   15    14   1        370  65*  28.46  313  118.21    0   \n",
       "4          Alex Hales    6     6   0        148   45  24.66  118  125.42    0   \n",
       "..                ...  ...   ...  ..        ...  ...    ...  ...     ...  ...   \n",
       "95        Virat Kohli   14    14   3        530  92*  48.18  381  139.10    0   \n",
       "96  Washington Sundar    7     6   3         65   35  21.66   38  171.05    0   \n",
       "97    Wriddhiman Saha   11    10   2        122   35  15.25  102  119.60    0   \n",
       "98       Yusuf Pathan   15    13   4        260  45*  28.88  200  130.00    0   \n",
       "99       Yuvraj Singh    8     6   0         65   20  10.83   73   89.04    0   \n",
       "\n",
       "    50  4s  6s  2019_Runs  \n",
       "0    0   6   8        160  \n",
       "1    6  39  30        424  \n",
       "2    0   3   5         63  \n",
       "3    1  39   5        396  \n",
       "4    0  13   6        165  \n",
       "..  ..  ..  ..        ...  \n",
       "95   4  52  18        488  \n",
       "96   0   5   4         64  \n",
       "97   0  17   1        115  \n",
       "98   0  22  11        296  \n",
       "99   0   6   2         67  \n",
       "\n",
       "[100 rows x 14 columns]"
      ]
     },
     "execution_count": 180,
     "metadata": {},
     "output_type": "execute_result"
    }
   ],
   "source": [
    "xls = pd.ExcelFile('C:\\\\Users\\\\Shreya Singh\\\\Downloads\\\\Data.xlsx')\n",
    "df1 = pd.read_excel(xls, 'Train_Data')\n",
    "df2 = pd.read_excel(xls, 'Test_Data')\n",
    "df1\n"
   ]
  },
  {
   "cell_type": "code",
   "execution_count": 181,
   "metadata": {},
   "outputs": [
    {
     "name": "stdout",
     "output_type": "stream",
     "text": [
      "<class 'pandas.core.frame.DataFrame'>\n",
      "RangeIndex: 100 entries, 0 to 99\n",
      "Data columns (total 14 columns):\n",
      " #   Column     Non-Null Count  Dtype  \n",
      "---  ------     --------------  -----  \n",
      " 0   PLAYER     100 non-null    object \n",
      " 1   Mat        100 non-null    int64  \n",
      " 2   Inns       100 non-null    int64  \n",
      " 3   NO         100 non-null    int64  \n",
      " 4   2018_Runs  100 non-null    int64  \n",
      " 5   HS         100 non-null    object \n",
      " 6   Avg        100 non-null    object \n",
      " 7   BF         100 non-null    int64  \n",
      " 8   SR         100 non-null    float64\n",
      " 9   100        100 non-null    int64  \n",
      " 10  50         100 non-null    int64  \n",
      " 11  4s         100 non-null    int64  \n",
      " 12  6s         100 non-null    int64  \n",
      " 13  2019_Runs  100 non-null    int64  \n",
      "dtypes: float64(1), int64(10), object(3)\n",
      "memory usage: 11.1+ KB\n"
     ]
    }
   ],
   "source": [
    "df1.info()"
   ]
  },
  {
   "cell_type": "code",
   "execution_count": 182,
   "metadata": {},
   "outputs": [],
   "source": [
    "df_copy=df1.copy()\n",
    "#df1['HS'].replace(regex=True, inplace=True, to_replace=r'[^0-9.]', value=r'')\n",
    "#df1['HS'] = df['HS'].astype(float)\n",
    "\n"
   ]
  },
  {
   "cell_type": "code",
   "execution_count": 183,
   "metadata": {},
   "outputs": [],
   "source": [
    "df_copy['HS'].replace(regex=True, inplace=True, to_replace=r'[^0-9.\\-]', value=r'')\n"
   ]
  },
  {
   "cell_type": "code",
   "execution_count": 205,
   "metadata": {},
   "outputs": [
    {
     "name": "stdout",
     "output_type": "stream",
     "text": [
      "<class 'pandas.core.frame.DataFrame'>\n",
      "RangeIndex: 100 entries, 0 to 99\n",
      "Data columns (total 14 columns):\n",
      " #   Column     Non-Null Count  Dtype  \n",
      "---  ------     --------------  -----  \n",
      " 0   PLAYER     100 non-null    object \n",
      " 1   Mat        100 non-null    int64  \n",
      " 2   Inns       100 non-null    int64  \n",
      " 3   NO         100 non-null    int64  \n",
      " 4   2018_Runs  100 non-null    int64  \n",
      " 5   HS         100 non-null    int32  \n",
      " 6   Avg        100 non-null    object \n",
      " 7   BF         100 non-null    int64  \n",
      " 8   SR         100 non-null    float64\n",
      " 9   100        100 non-null    int64  \n",
      " 10  50         100 non-null    int64  \n",
      " 11  4s         100 non-null    int64  \n",
      " 12  6s         100 non-null    int64  \n",
      " 13  2019_Runs  100 non-null    int64  \n",
      "dtypes: float64(1), int32(1), int64(10), object(2)\n",
      "memory usage: 10.7+ KB\n"
     ]
    }
   ],
   "source": [
    "df_copy['HS'] = df_copy['HS'].astype(int)\n",
    "df_copy.info()"
   ]
  },
  {
   "cell_type": "code",
   "execution_count": 206,
   "metadata": {},
   "outputs": [],
   "source": [
    "df_copy['Avg'].replace(regex=True, inplace=True, to_replace=r'[-]', value=r'')"
   ]
  },
  {
   "cell_type": "code",
   "execution_count": 207,
   "metadata": {},
   "outputs": [
    {
     "name": "stdout",
     "output_type": "stream",
     "text": [
      "<class 'pandas.core.frame.DataFrame'>\n",
      "RangeIndex: 100 entries, 0 to 99\n",
      "Data columns (total 14 columns):\n",
      " #   Column     Non-Null Count  Dtype  \n",
      "---  ------     --------------  -----  \n",
      " 0   PLAYER     100 non-null    object \n",
      " 1   Mat        100 non-null    int64  \n",
      " 2   Inns       100 non-null    int64  \n",
      " 3   NO         100 non-null    int64  \n",
      " 4   2018_Runs  100 non-null    int64  \n",
      " 5   HS         100 non-null    int32  \n",
      " 6   Avg        100 non-null    object \n",
      " 7   BF         100 non-null    int64  \n",
      " 8   SR         100 non-null    float64\n",
      " 9   100        100 non-null    int64  \n",
      " 10  50         100 non-null    int64  \n",
      " 11  4s         100 non-null    int64  \n",
      " 12  6s         100 non-null    int64  \n",
      " 13  2019_Runs  100 non-null    int64  \n",
      "dtypes: float64(1), int32(1), int64(10), object(2)\n",
      "memory usage: 10.7+ KB\n"
     ]
    }
   ],
   "source": [
    "df_copy.info()"
   ]
  },
  {
   "cell_type": "code",
   "execution_count": 213,
   "metadata": {},
   "outputs": [],
   "source": [
    "df_copy['Avg']=pd.to_numeric(df_copy['Avg'], errors='raise')\n"
   ]
  },
  {
   "cell_type": "code",
   "execution_count": 214,
   "metadata": {},
   "outputs": [
    {
     "name": "stdout",
     "output_type": "stream",
     "text": [
      "<class 'pandas.core.frame.DataFrame'>\n",
      "RangeIndex: 100 entries, 0 to 99\n",
      "Data columns (total 14 columns):\n",
      " #   Column     Non-Null Count  Dtype  \n",
      "---  ------     --------------  -----  \n",
      " 0   PLAYER     100 non-null    object \n",
      " 1   Mat        100 non-null    int64  \n",
      " 2   Inns       100 non-null    int64  \n",
      " 3   NO         100 non-null    int64  \n",
      " 4   2018_Runs  100 non-null    int64  \n",
      " 5   HS         100 non-null    int32  \n",
      " 6   Avg        97 non-null     float64\n",
      " 7   BF         100 non-null    int64  \n",
      " 8   SR         100 non-null    float64\n",
      " 9   100        100 non-null    int64  \n",
      " 10  50         100 non-null    int64  \n",
      " 11  4s         100 non-null    int64  \n",
      " 12  6s         100 non-null    int64  \n",
      " 13  2019_Runs  100 non-null    int64  \n",
      "dtypes: float64(2), int32(1), int64(10), object(1)\n",
      "memory usage: 10.7+ KB\n"
     ]
    }
   ],
   "source": [
    "df_copy.info()"
   ]
  },
  {
   "cell_type": "code",
   "execution_count": 233,
   "metadata": {},
   "outputs": [],
   "source": [
    "df1=df_copy"
   ]
  },
  {
   "cell_type": "code",
   "execution_count": 235,
   "metadata": {},
   "outputs": [
    {
     "name": "stdout",
     "output_type": "stream",
     "text": [
      "<class 'pandas.core.frame.DataFrame'>\n",
      "RangeIndex: 100 entries, 0 to 99\n",
      "Data columns (total 14 columns):\n",
      " #   Column     Non-Null Count  Dtype  \n",
      "---  ------     --------------  -----  \n",
      " 0   PLAYER     100 non-null    object \n",
      " 1   Mat        100 non-null    int64  \n",
      " 2   Inns       100 non-null    int64  \n",
      " 3   NO         100 non-null    int64  \n",
      " 4   2018_Runs  100 non-null    int64  \n",
      " 5   HS         100 non-null    int32  \n",
      " 6   Avg        97 non-null     float64\n",
      " 7   BF         100 non-null    int64  \n",
      " 8   SR         100 non-null    float64\n",
      " 9   100        100 non-null    int64  \n",
      " 10  50         100 non-null    int64  \n",
      " 11  4s         100 non-null    int64  \n",
      " 12  6s         100 non-null    int64  \n",
      " 13  2019_Runs  100 non-null    int64  \n",
      "dtypes: float64(2), int32(1), int64(10), object(1)\n",
      "memory usage: 10.7+ KB\n"
     ]
    }
   ],
   "source": [
    "df1.info()"
   ]
  },
  {
   "cell_type": "code",
   "execution_count": 236,
   "metadata": {},
   "outputs": [
    {
     "data": {
      "text/html": [
       "<div>\n",
       "<style scoped>\n",
       "    .dataframe tbody tr th:only-of-type {\n",
       "        vertical-align: middle;\n",
       "    }\n",
       "\n",
       "    .dataframe tbody tr th {\n",
       "        vertical-align: top;\n",
       "    }\n",
       "\n",
       "    .dataframe thead th {\n",
       "        text-align: right;\n",
       "    }\n",
       "</style>\n",
       "<table border=\"1\" class=\"dataframe\">\n",
       "  <thead>\n",
       "    <tr style=\"text-align: right;\">\n",
       "      <th></th>\n",
       "      <th>Mat</th>\n",
       "      <th>Inns</th>\n",
       "      <th>NO</th>\n",
       "      <th>2018_Runs</th>\n",
       "      <th>HS</th>\n",
       "      <th>Avg</th>\n",
       "      <th>BF</th>\n",
       "      <th>SR</th>\n",
       "      <th>100</th>\n",
       "      <th>50</th>\n",
       "      <th>4s</th>\n",
       "      <th>6s</th>\n",
       "      <th>2019_Runs</th>\n",
       "    </tr>\n",
       "  </thead>\n",
       "  <tbody>\n",
       "    <tr>\n",
       "      <th>count</th>\n",
       "      <td>100.000000</td>\n",
       "      <td>100.000000</td>\n",
       "      <td>100.000000</td>\n",
       "      <td>100.000000</td>\n",
       "      <td>100.000000</td>\n",
       "      <td>97.000000</td>\n",
       "      <td>100.000000</td>\n",
       "      <td>100.000000</td>\n",
       "      <td>100.000000</td>\n",
       "      <td>100.000000</td>\n",
       "      <td>100.000000</td>\n",
       "      <td>100.000000</td>\n",
       "      <td>100.0000</td>\n",
       "    </tr>\n",
       "    <tr>\n",
       "      <th>mean</th>\n",
       "      <td>10.420000</td>\n",
       "      <td>8.600000</td>\n",
       "      <td>1.790000</td>\n",
       "      <td>189.260000</td>\n",
       "      <td>47.410000</td>\n",
       "      <td>25.126289</td>\n",
       "      <td>135.890000</td>\n",
       "      <td>133.162000</td>\n",
       "      <td>0.050000</td>\n",
       "      <td>1.010000</td>\n",
       "      <td>16.390000</td>\n",
       "      <td>8.680000</td>\n",
       "      <td>184.2600</td>\n",
       "    </tr>\n",
       "    <tr>\n",
       "      <th>std</th>\n",
       "      <td>4.472542</td>\n",
       "      <td>4.572646</td>\n",
       "      <td>1.683521</td>\n",
       "      <td>182.454235</td>\n",
       "      <td>27.987044</td>\n",
       "      <td>14.870974</td>\n",
       "      <td>123.063414</td>\n",
       "      <td>33.044126</td>\n",
       "      <td>0.261116</td>\n",
       "      <td>1.642215</td>\n",
       "      <td>17.852875</td>\n",
       "      <td>9.382856</td>\n",
       "      <td>173.3093</td>\n",
       "    </tr>\n",
       "    <tr>\n",
       "      <th>min</th>\n",
       "      <td>1.000000</td>\n",
       "      <td>1.000000</td>\n",
       "      <td>0.000000</td>\n",
       "      <td>13.000000</td>\n",
       "      <td>7.000000</td>\n",
       "      <td>3.000000</td>\n",
       "      <td>5.000000</td>\n",
       "      <td>71.420000</td>\n",
       "      <td>0.000000</td>\n",
       "      <td>0.000000</td>\n",
       "      <td>0.000000</td>\n",
       "      <td>0.000000</td>\n",
       "      <td>9.0000</td>\n",
       "    </tr>\n",
       "    <tr>\n",
       "      <th>25%</th>\n",
       "      <td>6.000000</td>\n",
       "      <td>4.000000</td>\n",
       "      <td>1.000000</td>\n",
       "      <td>50.000000</td>\n",
       "      <td>25.500000</td>\n",
       "      <td>13.750000</td>\n",
       "      <td>38.750000</td>\n",
       "      <td>115.860000</td>\n",
       "      <td>0.000000</td>\n",
       "      <td>0.000000</td>\n",
       "      <td>3.000000</td>\n",
       "      <td>1.000000</td>\n",
       "      <td>36.2500</td>\n",
       "    </tr>\n",
       "    <tr>\n",
       "      <th>50%</th>\n",
       "      <td>11.000000</td>\n",
       "      <td>8.000000</td>\n",
       "      <td>1.000000</td>\n",
       "      <td>120.000000</td>\n",
       "      <td>44.500000</td>\n",
       "      <td>22.800000</td>\n",
       "      <td>88.000000</td>\n",
       "      <td>132.790000</td>\n",
       "      <td>0.000000</td>\n",
       "      <td>0.000000</td>\n",
       "      <td>8.000000</td>\n",
       "      <td>5.000000</td>\n",
       "      <td>108.0000</td>\n",
       "    </tr>\n",
       "    <tr>\n",
       "      <th>75%</th>\n",
       "      <td>14.000000</td>\n",
       "      <td>13.000000</td>\n",
       "      <td>3.000000</td>\n",
       "      <td>284.500000</td>\n",
       "      <td>65.000000</td>\n",
       "      <td>32.400000</td>\n",
       "      <td>197.750000</td>\n",
       "      <td>149.525000</td>\n",
       "      <td>0.000000</td>\n",
       "      <td>1.000000</td>\n",
       "      <td>23.250000</td>\n",
       "      <td>11.250000</td>\n",
       "      <td>334.5000</td>\n",
       "    </tr>\n",
       "    <tr>\n",
       "      <th>max</th>\n",
       "      <td>17.000000</td>\n",
       "      <td>17.000000</td>\n",
       "      <td>9.000000</td>\n",
       "      <td>735.000000</td>\n",
       "      <td>128.000000</td>\n",
       "      <td>75.830000</td>\n",
       "      <td>516.000000</td>\n",
       "      <td>300.000000</td>\n",
       "      <td>2.000000</td>\n",
       "      <td>8.000000</td>\n",
       "      <td>68.000000</td>\n",
       "      <td>37.000000</td>\n",
       "      <td>692.0000</td>\n",
       "    </tr>\n",
       "  </tbody>\n",
       "</table>\n",
       "</div>"
      ],
      "text/plain": [
       "              Mat        Inns          NO   2018_Runs          HS        Avg  \\\n",
       "count  100.000000  100.000000  100.000000  100.000000  100.000000  97.000000   \n",
       "mean    10.420000    8.600000    1.790000  189.260000   47.410000  25.126289   \n",
       "std      4.472542    4.572646    1.683521  182.454235   27.987044  14.870974   \n",
       "min      1.000000    1.000000    0.000000   13.000000    7.000000   3.000000   \n",
       "25%      6.000000    4.000000    1.000000   50.000000   25.500000  13.750000   \n",
       "50%     11.000000    8.000000    1.000000  120.000000   44.500000  22.800000   \n",
       "75%     14.000000   13.000000    3.000000  284.500000   65.000000  32.400000   \n",
       "max     17.000000   17.000000    9.000000  735.000000  128.000000  75.830000   \n",
       "\n",
       "               BF          SR         100          50          4s          6s  \\\n",
       "count  100.000000  100.000000  100.000000  100.000000  100.000000  100.000000   \n",
       "mean   135.890000  133.162000    0.050000    1.010000   16.390000    8.680000   \n",
       "std    123.063414   33.044126    0.261116    1.642215   17.852875    9.382856   \n",
       "min      5.000000   71.420000    0.000000    0.000000    0.000000    0.000000   \n",
       "25%     38.750000  115.860000    0.000000    0.000000    3.000000    1.000000   \n",
       "50%     88.000000  132.790000    0.000000    0.000000    8.000000    5.000000   \n",
       "75%    197.750000  149.525000    0.000000    1.000000   23.250000   11.250000   \n",
       "max    516.000000  300.000000    2.000000    8.000000   68.000000   37.000000   \n",
       "\n",
       "       2019_Runs  \n",
       "count   100.0000  \n",
       "mean    184.2600  \n",
       "std     173.3093  \n",
       "min       9.0000  \n",
       "25%      36.2500  \n",
       "50%     108.0000  \n",
       "75%     334.5000  \n",
       "max     692.0000  "
      ]
     },
     "execution_count": 236,
     "metadata": {},
     "output_type": "execute_result"
    }
   ],
   "source": [
    "df1.describe()"
   ]
  },
  {
   "cell_type": "code",
   "execution_count": 237,
   "metadata": {},
   "outputs": [
    {
     "data": {
      "text/plain": [
       "73    Rishabh Pant\n",
       "Name: PLAYER, dtype: object"
      ]
     },
     "execution_count": 237,
     "metadata": {},
     "output_type": "execute_result"
    }
   ],
   "source": [
    "df1.loc[df1['HS']==128,'PLAYER']"
   ]
  },
  {
   "cell_type": "code",
   "execution_count": 239,
   "metadata": {},
   "outputs": [
    {
     "data": {
      "text/plain": [
       "61    MS Dhoni\n",
       "Name: PLAYER, dtype: object"
      ]
     },
     "execution_count": 239,
     "metadata": {},
     "output_type": "execute_result"
    }
   ],
   "source": [
    "df1.loc[df1['Avg']==75.83,'PLAYER']"
   ]
  },
  {
   "cell_type": "code",
   "execution_count": 256,
   "metadata": {},
   "outputs": [],
   "source": [
    "century_scores=df1.loc[df1['HS']>80,['PLAYER','HS','Avg']]"
   ]
  },
  {
   "cell_type": "code",
   "execution_count": 257,
   "metadata": {},
   "outputs": [],
   "source": [
    "#century_scores['HS']=century_scores['HS'].sort_values(inplace=True,ascending=False)\n",
    "century_scores = century_scores.sort_values('HS',ascending=False)"
   ]
  },
  {
   "cell_type": "code",
   "execution_count": 258,
   "metadata": {},
   "outputs": [
    {
     "data": {
      "text/html": [
       "<div>\n",
       "<style scoped>\n",
       "    .dataframe tbody tr th:only-of-type {\n",
       "        vertical-align: middle;\n",
       "    }\n",
       "\n",
       "    .dataframe tbody tr th {\n",
       "        vertical-align: top;\n",
       "    }\n",
       "\n",
       "    .dataframe thead th {\n",
       "        text-align: right;\n",
       "    }\n",
       "</style>\n",
       "<table border=\"1\" class=\"dataframe\">\n",
       "  <thead>\n",
       "    <tr style=\"text-align: right;\">\n",
       "      <th></th>\n",
       "      <th>PLAYER</th>\n",
       "      <th>HS</th>\n",
       "      <th>Avg</th>\n",
       "    </tr>\n",
       "  </thead>\n",
       "  <tbody>\n",
       "    <tr>\n",
       "      <th>73</th>\n",
       "      <td>Rishabh Pant</td>\n",
       "      <td>128</td>\n",
       "      <td>52.61</td>\n",
       "    </tr>\n",
       "    <tr>\n",
       "      <th>80</th>\n",
       "      <td>Shane Watson</td>\n",
       "      <td>117</td>\n",
       "      <td>39.64</td>\n",
       "    </tr>\n",
       "    <tr>\n",
       "      <th>14</th>\n",
       "      <td>Chris Gayle</td>\n",
       "      <td>104</td>\n",
       "      <td>40.88</td>\n",
       "    </tr>\n",
       "    <tr>\n",
       "      <th>5</th>\n",
       "      <td>Ambati Rayudu</td>\n",
       "      <td>100</td>\n",
       "      <td>43.00</td>\n",
       "    </tr>\n",
       "    <tr>\n",
       "      <th>40</th>\n",
       "      <td>Jos Buttler</td>\n",
       "      <td>95</td>\n",
       "      <td>54.80</td>\n",
       "    </tr>\n",
       "    <tr>\n",
       "      <th>46</th>\n",
       "      <td>KL Rahul</td>\n",
       "      <td>95</td>\n",
       "      <td>54.91</td>\n",
       "    </tr>\n",
       "    <tr>\n",
       "      <th>75</th>\n",
       "      <td>Rohit Sharma</td>\n",
       "      <td>94</td>\n",
       "      <td>23.83</td>\n",
       "    </tr>\n",
       "    <tr>\n",
       "      <th>86</th>\n",
       "      <td>Shreyas Iyer</td>\n",
       "      <td>93</td>\n",
       "      <td>37.36</td>\n",
       "    </tr>\n",
       "    <tr>\n",
       "      <th>77</th>\n",
       "      <td>Sanju Samson</td>\n",
       "      <td>92</td>\n",
       "      <td>31.50</td>\n",
       "    </tr>\n",
       "    <tr>\n",
       "      <th>82</th>\n",
       "      <td>Shikhar Dhawan</td>\n",
       "      <td>92</td>\n",
       "      <td>38.23</td>\n",
       "    </tr>\n",
       "    <tr>\n",
       "      <th>95</th>\n",
       "      <td>Virat Kohli</td>\n",
       "      <td>92</td>\n",
       "      <td>48.18</td>\n",
       "    </tr>\n",
       "    <tr>\n",
       "      <th>37</th>\n",
       "      <td>Jason Roy</td>\n",
       "      <td>91</td>\n",
       "      <td>30.00</td>\n",
       "    </tr>\n",
       "    <tr>\n",
       "      <th>1</th>\n",
       "      <td>AB de Villiers</td>\n",
       "      <td>90</td>\n",
       "      <td>53.33</td>\n",
       "    </tr>\n",
       "    <tr>\n",
       "      <th>6</th>\n",
       "      <td>Andre Russell</td>\n",
       "      <td>88</td>\n",
       "      <td>28.72</td>\n",
       "    </tr>\n",
       "    <tr>\n",
       "      <th>42</th>\n",
       "      <td>Kane Williamson</td>\n",
       "      <td>84</td>\n",
       "      <td>52.50</td>\n",
       "    </tr>\n",
       "  </tbody>\n",
       "</table>\n",
       "</div>"
      ],
      "text/plain": [
       "             PLAYER   HS    Avg\n",
       "73     Rishabh Pant  128  52.61\n",
       "80     Shane Watson  117  39.64\n",
       "14      Chris Gayle  104  40.88\n",
       "5     Ambati Rayudu  100  43.00\n",
       "40      Jos Buttler   95  54.80\n",
       "46         KL Rahul   95  54.91\n",
       "75     Rohit Sharma   94  23.83\n",
       "86     Shreyas Iyer   93  37.36\n",
       "77     Sanju Samson   92  31.50\n",
       "82   Shikhar Dhawan   92  38.23\n",
       "95      Virat Kohli   92  48.18\n",
       "37        Jason Roy   91  30.00\n",
       "1    AB de Villiers   90  53.33\n",
       "6     Andre Russell   88  28.72\n",
       "42  Kane Williamson   84  52.50"
      ]
     },
     "execution_count": 258,
     "metadata": {},
     "output_type": "execute_result"
    }
   ],
   "source": [
    "century_scores"
   ]
  },
  {
   "cell_type": "code",
   "execution_count": 270,
   "metadata": {},
   "outputs": [
    {
     "name": "stderr",
     "output_type": "stream",
     "text": [
      "No handles with labels found to put in legend.\n"
     ]
    },
    {
     "data": {
      "text/plain": [
       "<matplotlib.legend.Legend at 0xde4db78310>"
      ]
     },
     "execution_count": 270,
     "metadata": {},
     "output_type": "execute_result"
    },
    {
     "data": {
      "image/png": "[encoded data removed]",
      "text/plain": [
       "<Figure size 432x288 with 1 Axes>"
      ]
     },
     "metadata": {
      "needs_background": "light"
     },
     "output_type": "display_data"
    }
   ],
   "source": [
    "plt.bar(century_scores[\"PLAYER\"],century_scores[\"HS\"])\n",
    "plt.xticks(rotation=90, horizontalalignment=\"center\")\n",
    "plt.xlabel(\"PLAYER NAME\")\n",
    "plt.ylabel(\"HIGHEST SCORE\")\n",
    "plt.legend()"
   ]
  },
  {
   "cell_type": "code",
   "execution_count": 272,
   "metadata": {},
   "outputs": [
    {
     "data": {
      "text/plain": [
       "Series([], Name: PLAYER, dtype: object)"
      ]
     },
     "execution_count": 272,
     "metadata": {},
     "output_type": "execute_result"
    }
   ],
   "source": [
    "df1.loc[df1['Avg']==0,'PLAYER']"
   ]
  },
  {
   "cell_type": "code",
   "execution_count": 275,
   "metadata": {},
   "outputs": [
    {
     "data": {
      "text/plain": [
       "44        Kedar Jadhav\n",
       "57    Mitchell Johnson\n",
       "81      Shardul Thakur\n",
       "Name: PLAYER, dtype: object"
      ]
     },
     "execution_count": 275,
     "metadata": {},
     "output_type": "execute_result"
    }
   ],
   "source": [
    "df1.loc[pd.isna(df1['Avg'])==True, 'PLAYER']"
   ]
  },
  {
   "cell_type": "code",
   "execution_count": 278,
   "metadata": {},
   "outputs": [],
   "source": [
    "df1['Avg'].fillna(0,inplace=True)"
   ]
  },
  {
   "cell_type": "code",
   "execution_count": 279,
   "metadata": {},
   "outputs": [
    {
     "data": {
      "text/plain": [
       "Series([], Name: PLAYER, dtype: object)"
      ]
     },
     "execution_count": 279,
     "metadata": {},
     "output_type": "execute_result"
    }
   ],
   "source": [
    "df1.loc[pd.isna(df1['Avg'])==True, 'PLAYER']"
   ]
  },
  {
   "cell_type": "code",
   "execution_count": 280,
   "metadata": {},
   "outputs": [
    {
     "data": {
      "text/plain": [
       "<matplotlib.axes._subplots.AxesSubplot at 0xde4dc536d0>"
      ]
     },
     "execution_count": 280,
     "metadata": {},
     "output_type": "execute_result"
    },
    {
     "data": {
      "image/png": "[encoded data removed]",
      "text/plain": [
       "<Figure size 432x288 with 2 Axes>"
      ]
     },
     "metadata": {
      "needs_background": "light"
     },
     "output_type": "display_data"
    }
   ],
   "source": [
    "sns.heatmap(df1.isnull())"
   ]
  },
  {
   "cell_type": "code",
   "execution_count": 284,
   "metadata": {},
   "outputs": [],
   "source": [
    "#Who scored same runs in 2018 and 2019\n",
    "same_runs=df1.loc[df1['2018_Runs']==df1['2019_Runs'],['PLAYER','2019_Runs']]"
   ]
  },
  {
   "cell_type": "code",
   "execution_count": 286,
   "metadata": {},
   "outputs": [],
   "source": [
    "same_runs.rename(columns={'2019_Runs':'18-19 runs'},inplace=True)"
   ]
  },
  {
   "cell_type": "code",
   "execution_count": 287,
   "metadata": {},
   "outputs": [
    {
     "data": {
      "text/html": [
       "<div>\n",
       "<style scoped>\n",
       "    .dataframe tbody tr th:only-of-type {\n",
       "        vertical-align: middle;\n",
       "    }\n",
       "\n",
       "    .dataframe tbody tr th {\n",
       "        vertical-align: top;\n",
       "    }\n",
       "\n",
       "    .dataframe thead th {\n",
       "        text-align: right;\n",
       "    }\n",
       "</style>\n",
       "<table border=\"1\" class=\"dataframe\">\n",
       "  <thead>\n",
       "    <tr style=\"text-align: right;\">\n",
       "      <th></th>\n",
       "      <th>PLAYER</th>\n",
       "      <th>18-19 runs</th>\n",
       "    </tr>\n",
       "  </thead>\n",
       "  <tbody>\n",
       "    <tr>\n",
       "      <th>2</th>\n",
       "      <td>Abhishek Sharma</td>\n",
       "      <td>63</td>\n",
       "    </tr>\n",
       "    <tr>\n",
       "      <th>8</th>\n",
       "      <td>Axar Patel</td>\n",
       "      <td>80</td>\n",
       "    </tr>\n",
       "  </tbody>\n",
       "</table>\n",
       "</div>"
      ],
      "text/plain": [
       "            PLAYER  18-19 runs\n",
       "2  Abhishek Sharma          63\n",
       "8       Axar Patel          80"
      ]
     },
     "execution_count": 287,
     "metadata": {},
     "output_type": "execute_result"
    }
   ],
   "source": [
    "same_runs"
   ]
  },
  {
   "cell_type": "code",
   "execution_count": 291,
   "metadata": {},
   "outputs": [
    {
     "data": {
      "text/plain": [
       "<matplotlib.axes._subplots.AxesSubplot at 0xde4dd41d30>"
      ]
     },
     "execution_count": 291,
     "metadata": {},
     "output_type": "execute_result"
    },
    {
     "data": {
      "image/png": "[encoded data removed]",
      "text/plain": [
       "<Figure size 1152x1152 with 2 Axes>"
      ]
     },
     "metadata": {
      "needs_background": "light"
     },
     "output_type": "display_data"
    }
   ],
   "source": [
    "plt.figure(figsize=(16,16))\n",
    "sns.heatmap(df1.corr(),annot=True,linewidths=.3)"
   ]
  },
  {
   "cell_type": "code",
   "execution_count": 294,
   "metadata": {},
   "outputs": [],
   "source": [
    "high_mat = df1.nlargest(5,'Mat',keep='all')"
   ]
  },
  {
   "cell_type": "code",
   "execution_count": 296,
   "metadata": {},
   "outputs": [
    {
     "name": "stderr",
     "output_type": "stream",
     "text": [
      "No handles with labels found to put in legend.\n"
     ]
    },
    {
     "data": {
      "text/plain": [
       "<matplotlib.legend.Legend at 0xde51352a60>"
      ]
     },
     "execution_count": 296,
     "metadata": {},
     "output_type": "execute_result"
    },
    {
     "data": {
      "image/png": "[encoded data removed]",
      "text/plain": [
       "<Figure size 432x288 with 1 Axes>"
      ]
     },
     "metadata": {
      "needs_background": "light"
     },
     "output_type": "display_data"
    }
   ],
   "source": [
    "plt.figure()\n",
    "plt.barh(high_mat[\"PLAYER\"],high_mat[\"Mat\"])\n",
    "plt.xticks(rotation=90, horizontalalignment=\"center\")\n",
    "plt.xlabel(\"Matches played\")\n",
    "plt.ylabel(\"PLAYER NAME\")\n",
    "plt.legend()"
   ]
  },
  {
   "cell_type": "code",
   "execution_count": 302,
   "metadata": {},
   "outputs": [
    {
     "data": {
      "image/png": "[encoded data removed]",
      "text/plain": [
       "<Figure size 432x288 with 1 Axes>"
      ]
     },
     "metadata": {
      "needs_background": "light"
     },
     "output_type": "display_data"
    }
   ],
   "source": [
    "boxplot = df1.boxplot(column=['2018_Runs', '2019_Runs','HS','Avg'])"
   ]
  },
  {
   "cell_type": "code",
   "execution_count": 428,
   "metadata": {},
   "outputs": [],
   "source": [
    "df1_copy=df1.copy()\n",
    "q_low = df1_copy[\"2018_Runs\"].quantile(0.01)\n",
    "q_hi  = df1_copy[\"2018_Runs\"].quantile(0.99)\n",
    "\n",
    "df_filtered = df1_copy[(df1_copy[\"2018_Runs\"] < q_hi) & (df1_copy[\"2018_Runs\"] > q_low)]"
   ]
  },
  {
   "cell_type": "code",
   "execution_count": 430,
   "metadata": {},
   "outputs": [],
   "source": [
    "df1=df_filtered"
   ]
  },
  {
   "cell_type": "code",
   "execution_count": 305,
   "metadata": {},
   "outputs": [
    {
     "data": {
      "text/html": [
       "<div>\n",
       "<style scoped>\n",
       "    .dataframe tbody tr th:only-of-type {\n",
       "        vertical-align: middle;\n",
       "    }\n",
       "\n",
       "    .dataframe tbody tr th {\n",
       "        vertical-align: top;\n",
       "    }\n",
       "\n",
       "    .dataframe thead th {\n",
       "        text-align: right;\n",
       "    }\n",
       "</style>\n",
       "<table border=\"1\" class=\"dataframe\">\n",
       "  <thead>\n",
       "    <tr style=\"text-align: right;\">\n",
       "      <th></th>\n",
       "      <th>PLAYER</th>\n",
       "      <th>Mat</th>\n",
       "      <th>Inns</th>\n",
       "      <th>NO</th>\n",
       "      <th>2018_Runs</th>\n",
       "      <th>HS</th>\n",
       "      <th>Avg</th>\n",
       "      <th>BF</th>\n",
       "      <th>SR</th>\n",
       "      <th>100</th>\n",
       "      <th>50</th>\n",
       "      <th>4s</th>\n",
       "      <th>6s</th>\n",
       "      <th>2019_Runs</th>\n",
       "    </tr>\n",
       "  </thead>\n",
       "  <tbody>\n",
       "    <tr>\n",
       "      <th>42</th>\n",
       "      <td>Kane Williamson</td>\n",
       "      <td>17</td>\n",
       "      <td>17</td>\n",
       "      <td>3</td>\n",
       "      <td>735</td>\n",
       "      <td>84</td>\n",
       "      <td>52.50</td>\n",
       "      <td>516</td>\n",
       "      <td>142.44</td>\n",
       "      <td>0</td>\n",
       "      <td>8</td>\n",
       "      <td>64</td>\n",
       "      <td>28</td>\n",
       "      <td>692</td>\n",
       "    </tr>\n",
       "    <tr>\n",
       "      <th>73</th>\n",
       "      <td>Rishabh Pant</td>\n",
       "      <td>14</td>\n",
       "      <td>14</td>\n",
       "      <td>1</td>\n",
       "      <td>684</td>\n",
       "      <td>128</td>\n",
       "      <td>52.61</td>\n",
       "      <td>394</td>\n",
       "      <td>173.60</td>\n",
       "      <td>1</td>\n",
       "      <td>5</td>\n",
       "      <td>68</td>\n",
       "      <td>37</td>\n",
       "      <td>593</td>\n",
       "    </tr>\n",
       "    <tr>\n",
       "      <th>46</th>\n",
       "      <td>KL Rahul</td>\n",
       "      <td>14</td>\n",
       "      <td>14</td>\n",
       "      <td>2</td>\n",
       "      <td>659</td>\n",
       "      <td>95</td>\n",
       "      <td>54.91</td>\n",
       "      <td>416</td>\n",
       "      <td>158.41</td>\n",
       "      <td>0</td>\n",
       "      <td>6</td>\n",
       "      <td>66</td>\n",
       "      <td>32</td>\n",
       "      <td>529</td>\n",
       "    </tr>\n",
       "  </tbody>\n",
       "</table>\n",
       "</div>"
      ],
      "text/plain": [
       "             PLAYER  Mat  Inns  NO  2018_Runs   HS    Avg   BF      SR  100  \\\n",
       "42  Kane Williamson   17    17   3        735   84  52.50  516  142.44    0   \n",
       "73     Rishabh Pant   14    14   1        684  128  52.61  394  173.60    1   \n",
       "46         KL Rahul   14    14   2        659   95  54.91  416  158.41    0   \n",
       "\n",
       "    50  4s  6s  2019_Runs  \n",
       "42   8  64  28        692  \n",
       "73   5  68  37        593  \n",
       "46   6  66  32        529  "
      ]
     },
     "execution_count": 305,
     "metadata": {},
     "output_type": "execute_result"
    }
   ],
   "source": [
    "#outliers of 2018\n",
    "df1.nlargest(3,'2018_Runs',keep='all')"
   ]
  },
  {
   "cell_type": "code",
   "execution_count": 313,
   "metadata": {},
   "outputs": [
    {
     "name": "stderr",
     "output_type": "stream",
     "text": [
      "No handles with labels found to put in legend.\n"
     ]
    },
    {
     "data": {
      "text/plain": [
       "<matplotlib.legend.Legend at 0xde4d93f7c0>"
      ]
     },
     "execution_count": 313,
     "metadata": {},
     "output_type": "execute_result"
    },
    {
     "data": {
      "image/png": "[encoded data removed]",
      "text/plain": [
       "<Figure size 1368x720 with 1 Axes>"
      ]
     },
     "metadata": {
      "needs_background": "light"
     },
     "output_type": "display_data"
    }
   ],
   "source": [
    "plt.figure(figsize=(19,10))\n",
    "plt.plot(df1['PLAYER'],df1['2018_Runs'])\n",
    "plt.xticks(rotation=90, horizontalalignment=\"center\")\n",
    "plt.xlabel(\"PLAYER NAME\")\n",
    "plt.ylabel(\"2018 runs\")\n",
    "plt.legend()"
   ]
  },
  {
   "cell_type": "code",
   "execution_count": 445,
   "metadata": {},
   "outputs": [
    {
     "name": "stderr",
     "output_type": "stream",
     "text": [
      "F:\\ana\\lib\\site-packages\\pandas\\core\\frame.py:4125: SettingWithCopyWarning: \n",
      "A value is trying to be set on a copy of a slice from a DataFrame\n",
      "\n",
      "See the caveats in the documentation: https://pandas.pydata.org/pandas-docs/stable/user_guide/indexing.html#returning-a-view-versus-a-copy\n",
      "  return super().rename(\n"
     ]
    }
   ],
   "source": [
    "df1.rename(columns={'2018_Runs':'Previous_year_runs','2019_Runs':'Present_year_runs'},inplace=True)"
   ]
  },
  {
   "cell_type": "code",
   "execution_count": 446,
   "metadata": {},
   "outputs": [
    {
     "data": {
      "text/html": [
       "<div>\n",
       "<style scoped>\n",
       "    .dataframe tbody tr th:only-of-type {\n",
       "        vertical-align: middle;\n",
       "    }\n",
       "\n",
       "    .dataframe tbody tr th {\n",
       "        vertical-align: top;\n",
       "    }\n",
       "\n",
       "    .dataframe thead th {\n",
       "        text-align: right;\n",
       "    }\n",
       "</style>\n",
       "<table border=\"1\" class=\"dataframe\">\n",
       "  <thead>\n",
       "    <tr style=\"text-align: right;\">\n",
       "      <th></th>\n",
       "      <th>PLAYER</th>\n",
       "      <th>Mat</th>\n",
       "      <th>Inns</th>\n",
       "      <th>NO</th>\n",
       "      <th>Previous_year_runs</th>\n",
       "      <th>HS</th>\n",
       "      <th>Avg</th>\n",
       "      <th>BF</th>\n",
       "      <th>SR</th>\n",
       "      <th>100</th>\n",
       "      <th>50</th>\n",
       "      <th>4s</th>\n",
       "      <th>6s</th>\n",
       "      <th>Present_year_runs</th>\n",
       "    </tr>\n",
       "  </thead>\n",
       "  <tbody>\n",
       "    <tr>\n",
       "      <th>0</th>\n",
       "      <td>Aaron Finch</td>\n",
       "      <td>10</td>\n",
       "      <td>9</td>\n",
       "      <td>1</td>\n",
       "      <td>134</td>\n",
       "      <td>46</td>\n",
       "      <td>16.75</td>\n",
       "      <td>100</td>\n",
       "      <td>134.00</td>\n",
       "      <td>0</td>\n",
       "      <td>0</td>\n",
       "      <td>6</td>\n",
       "      <td>8</td>\n",
       "      <td>160</td>\n",
       "    </tr>\n",
       "    <tr>\n",
       "      <th>1</th>\n",
       "      <td>AB de Villiers</td>\n",
       "      <td>12</td>\n",
       "      <td>11</td>\n",
       "      <td>2</td>\n",
       "      <td>480</td>\n",
       "      <td>90</td>\n",
       "      <td>53.33</td>\n",
       "      <td>275</td>\n",
       "      <td>174.54</td>\n",
       "      <td>0</td>\n",
       "      <td>6</td>\n",
       "      <td>39</td>\n",
       "      <td>30</td>\n",
       "      <td>424</td>\n",
       "    </tr>\n",
       "    <tr>\n",
       "      <th>2</th>\n",
       "      <td>Abhishek Sharma</td>\n",
       "      <td>3</td>\n",
       "      <td>3</td>\n",
       "      <td>2</td>\n",
       "      <td>63</td>\n",
       "      <td>46</td>\n",
       "      <td>63.00</td>\n",
       "      <td>33</td>\n",
       "      <td>190.90</td>\n",
       "      <td>0</td>\n",
       "      <td>0</td>\n",
       "      <td>3</td>\n",
       "      <td>5</td>\n",
       "      <td>63</td>\n",
       "    </tr>\n",
       "    <tr>\n",
       "      <th>3</th>\n",
       "      <td>Ajinkya Rahane</td>\n",
       "      <td>15</td>\n",
       "      <td>14</td>\n",
       "      <td>1</td>\n",
       "      <td>370</td>\n",
       "      <td>65</td>\n",
       "      <td>28.46</td>\n",
       "      <td>313</td>\n",
       "      <td>118.21</td>\n",
       "      <td>0</td>\n",
       "      <td>1</td>\n",
       "      <td>39</td>\n",
       "      <td>5</td>\n",
       "      <td>396</td>\n",
       "    </tr>\n",
       "    <tr>\n",
       "      <th>4</th>\n",
       "      <td>Alex Hales</td>\n",
       "      <td>6</td>\n",
       "      <td>6</td>\n",
       "      <td>0</td>\n",
       "      <td>148</td>\n",
       "      <td>45</td>\n",
       "      <td>24.66</td>\n",
       "      <td>118</td>\n",
       "      <td>125.42</td>\n",
       "      <td>0</td>\n",
       "      <td>0</td>\n",
       "      <td>13</td>\n",
       "      <td>6</td>\n",
       "      <td>165</td>\n",
       "    </tr>\n",
       "    <tr>\n",
       "      <th>...</th>\n",
       "      <td>...</td>\n",
       "      <td>...</td>\n",
       "      <td>...</td>\n",
       "      <td>...</td>\n",
       "      <td>...</td>\n",
       "      <td>...</td>\n",
       "      <td>...</td>\n",
       "      <td>...</td>\n",
       "      <td>...</td>\n",
       "      <td>...</td>\n",
       "      <td>...</td>\n",
       "      <td>...</td>\n",
       "      <td>...</td>\n",
       "      <td>...</td>\n",
       "    </tr>\n",
       "    <tr>\n",
       "      <th>95</th>\n",
       "      <td>Virat Kohli</td>\n",
       "      <td>14</td>\n",
       "      <td>14</td>\n",
       "      <td>3</td>\n",
       "      <td>530</td>\n",
       "      <td>92</td>\n",
       "      <td>48.18</td>\n",
       "      <td>381</td>\n",
       "      <td>139.10</td>\n",
       "      <td>0</td>\n",
       "      <td>4</td>\n",
       "      <td>52</td>\n",
       "      <td>18</td>\n",
       "      <td>488</td>\n",
       "    </tr>\n",
       "    <tr>\n",
       "      <th>96</th>\n",
       "      <td>Washington Sundar</td>\n",
       "      <td>7</td>\n",
       "      <td>6</td>\n",
       "      <td>3</td>\n",
       "      <td>65</td>\n",
       "      <td>35</td>\n",
       "      <td>21.66</td>\n",
       "      <td>38</td>\n",
       "      <td>171.05</td>\n",
       "      <td>0</td>\n",
       "      <td>0</td>\n",
       "      <td>5</td>\n",
       "      <td>4</td>\n",
       "      <td>64</td>\n",
       "    </tr>\n",
       "    <tr>\n",
       "      <th>97</th>\n",
       "      <td>Wriddhiman Saha</td>\n",
       "      <td>11</td>\n",
       "      <td>10</td>\n",
       "      <td>2</td>\n",
       "      <td>122</td>\n",
       "      <td>35</td>\n",
       "      <td>15.25</td>\n",
       "      <td>102</td>\n",
       "      <td>119.60</td>\n",
       "      <td>0</td>\n",
       "      <td>0</td>\n",
       "      <td>17</td>\n",
       "      <td>1</td>\n",
       "      <td>115</td>\n",
       "    </tr>\n",
       "    <tr>\n",
       "      <th>98</th>\n",
       "      <td>Yusuf Pathan</td>\n",
       "      <td>15</td>\n",
       "      <td>13</td>\n",
       "      <td>4</td>\n",
       "      <td>260</td>\n",
       "      <td>45</td>\n",
       "      <td>28.88</td>\n",
       "      <td>200</td>\n",
       "      <td>130.00</td>\n",
       "      <td>0</td>\n",
       "      <td>0</td>\n",
       "      <td>22</td>\n",
       "      <td>11</td>\n",
       "      <td>296</td>\n",
       "    </tr>\n",
       "    <tr>\n",
       "      <th>99</th>\n",
       "      <td>Yuvraj Singh</td>\n",
       "      <td>8</td>\n",
       "      <td>6</td>\n",
       "      <td>0</td>\n",
       "      <td>65</td>\n",
       "      <td>20</td>\n",
       "      <td>10.83</td>\n",
       "      <td>73</td>\n",
       "      <td>89.04</td>\n",
       "      <td>0</td>\n",
       "      <td>0</td>\n",
       "      <td>6</td>\n",
       "      <td>2</td>\n",
       "      <td>67</td>\n",
       "    </tr>\n",
       "  </tbody>\n",
       "</table>\n",
       "<p>97 rows × 14 columns</p>\n",
       "</div>"
      ],
      "text/plain": [
       "               PLAYER  Mat  Inns  NO  Previous_year_runs  HS    Avg   BF  \\\n",
       "0         Aaron Finch   10     9   1                 134  46  16.75  100   \n",
       "1      AB de Villiers   12    11   2                 480  90  53.33  275   \n",
       "2     Abhishek Sharma    3     3   2                  63  46  63.00   33   \n",
       "3      Ajinkya Rahane   15    14   1                 370  65  28.46  313   \n",
       "4          Alex Hales    6     6   0                 148  45  24.66  118   \n",
       "..                ...  ...   ...  ..                 ...  ..    ...  ...   \n",
       "95        Virat Kohli   14    14   3                 530  92  48.18  381   \n",
       "96  Washington Sundar    7     6   3                  65  35  21.66   38   \n",
       "97    Wriddhiman Saha   11    10   2                 122  35  15.25  102   \n",
       "98       Yusuf Pathan   15    13   4                 260  45  28.88  200   \n",
       "99       Yuvraj Singh    8     6   0                  65  20  10.83   73   \n",
       "\n",
       "        SR  100  50  4s  6s  Present_year_runs  \n",
       "0   134.00    0   0   6   8                160  \n",
       "1   174.54    0   6  39  30                424  \n",
       "2   190.90    0   0   3   5                 63  \n",
       "3   118.21    0   1  39   5                396  \n",
       "4   125.42    0   0  13   6                165  \n",
       "..     ...  ...  ..  ..  ..                ...  \n",
       "95  139.10    0   4  52  18                488  \n",
       "96  171.05    0   0   5   4                 64  \n",
       "97  119.60    0   0  17   1                115  \n",
       "98  130.00    0   0  22  11                296  \n",
       "99   89.04    0   0   6   2                 67  \n",
       "\n",
       "[97 rows x 14 columns]"
      ]
     },
     "execution_count": 446,
     "metadata": {},
     "output_type": "execute_result"
    }
   ],
   "source": [
    "df1"
   ]
  },
  {
   "cell_type": "code",
   "execution_count": 314,
   "metadata": {},
   "outputs": [],
   "source": [
    "from sklearn.model_selection import train_test_split"
   ]
  },
  {
   "cell_type": "code",
   "execution_count": 447,
   "metadata": {},
   "outputs": [],
   "source": [
    "X=df1.drop(['Present_year_runs','PLAYER'],axis=1)\n",
    "y=df1['Present_year_runs']\n",
    "X_train, X_test, y_train, y_test = train_test_split(X, y, test_size=0.2, random_state=42)"
   ]
  },
  {
   "cell_type": "code",
   "execution_count": 448,
   "metadata": {},
   "outputs": [
    {
     "name": "stdout",
     "output_type": "stream",
     "text": [
      "Requirement already satisfied: xgboost in f:\\ana\\lib\\site-packages (1.2.1)Note: you may need to restart the kernel to use updated packages.\n",
      "Requirement already satisfied: numpy in f:\\ana\\lib\\site-packages (from xgboost) (1.18.5)\n",
      "Requirement already satisfied: scipy in f:\\ana\\lib\\site-packages (from xgboost) (1.5.0)\n",
      "\n"
     ]
    }
   ],
   "source": [
    "pip install xgboost"
   ]
  },
  {
   "cell_type": "code",
   "execution_count": 449,
   "metadata": {},
   "outputs": [
    {
     "data": {
      "text/plain": [
       "XGBRegressor(base_score=0.5, booster='gbtree', colsample_bylevel=1,\n",
       "             colsample_bynode=1, colsample_bytree=1, gamma=0, gpu_id=-1,\n",
       "             importance_type='gain', interaction_constraints='',\n",
       "             learning_rate=0.015, max_delta_step=0, max_depth=14,\n",
       "             min_child_weight=1, missing=nan, monotone_constraints='()',\n",
       "             n_estimators=650, n_jobs=0, num_parallel_tree=1, random_state=42,\n",
       "             reg_alpha=0, reg_lambda=1, scale_pos_weight=1, subsample=0.8,\n",
       "             tree_method='exact', validate_parameters=1, verbosity=None)"
      ]
     },
     "execution_count": 449,
     "metadata": {},
     "output_type": "execute_result"
    }
   ],
   "source": [
    "from xgboost import XGBRegressor \n",
    "model = XGBRegressor(max_depth=14, n_estimators = 650, learning_rate= 0.015, subsample=0.8, random_state=42)\n",
    "model.fit(X_train,y_train)"
   ]
  },
  {
   "cell_type": "code",
   "execution_count": 450,
   "metadata": {},
   "outputs": [],
   "source": [
    "predictions=model.predict(X_test)"
   ]
  },
  {
   "cell_type": "code",
   "execution_count": 451,
   "metadata": {},
   "outputs": [
    {
     "data": {
      "text/plain": [
       "0.9999764624010604"
      ]
     },
     "execution_count": 451,
     "metadata": {},
     "output_type": "execute_result"
    }
   ],
   "source": [
    "model.score(X_train,y_train)"
   ]
  },
  {
   "cell_type": "code",
   "execution_count": 452,
   "metadata": {},
   "outputs": [
    {
     "data": {
      "text/plain": [
       "0.9906320449272388"
      ]
     },
     "execution_count": 452,
     "metadata": {},
     "output_type": "execute_result"
    }
   ],
   "source": [
    "model.score(X_test,y_test)"
   ]
  },
  {
   "cell_type": "code",
   "execution_count": 453,
   "metadata": {},
   "outputs": [
    {
     "data": {
      "text/plain": [
       "0.9906320449272388"
      ]
     },
     "execution_count": 453,
     "metadata": {},
     "output_type": "execute_result"
    }
   ],
   "source": [
    "from sklearn.metrics import r2_score\n",
    "r2_score(y_test, predictions)"
   ]
  },
  {
   "cell_type": "code",
   "execution_count": 454,
   "metadata": {},
   "outputs": [],
   "source": [
    "#Cleaning test data\n",
    "df2['HS'].replace(regex=True, inplace=True, to_replace=r'[^0-9.\\-]', value=r'')\n",
    "df2['HS'] = df2['HS'].astype(int)\n",
    "df2['Avg'].replace(regex=True, inplace=True, to_replace=r'[-]', value=r'')\n",
    "df2['Avg']=pd.to_numeric(df2['Avg'], errors='raise')"
   ]
  },
  {
   "cell_type": "code",
   "execution_count": 439,
   "metadata": {},
   "outputs": [
    {
     "data": {
      "text/plain": [
       "<matplotlib.axes._subplots.AxesSubplot at 0xde50d5e820>"
      ]
     },
     "execution_count": 439,
     "metadata": {},
     "output_type": "execute_result"
    },
    {
     "data": {
      "image/png": "[encoded data removed]",
      "text/plain": [
       "<Figure size 432x288 with 2 Axes>"
      ]
     },
     "metadata": {
      "needs_background": "light"
     },
     "output_type": "display_data"
    }
   ],
   "source": [
    "sns.heatmap(df2.isnull())"
   ]
  },
  {
   "cell_type": "code",
   "execution_count": 443,
   "metadata": {},
   "outputs": [],
   "source": [
    "#df2.isnull().sum().sum()\n",
    "df2['Avg'].fillna(0,inplace=True)"
   ]
  },
  {
   "cell_type": "code",
   "execution_count": 459,
   "metadata": {},
   "outputs": [
    {
     "data": {
      "text/html": [
       "<div>\n",
       "<style scoped>\n",
       "    .dataframe tbody tr th:only-of-type {\n",
       "        vertical-align: middle;\n",
       "    }\n",
       "\n",
       "    .dataframe tbody tr th {\n",
       "        vertical-align: top;\n",
       "    }\n",
       "\n",
       "    .dataframe thead th {\n",
       "        text-align: right;\n",
       "    }\n",
       "</style>\n",
       "<table border=\"1\" class=\"dataframe\">\n",
       "  <thead>\n",
       "    <tr style=\"text-align: right;\">\n",
       "      <th></th>\n",
       "      <th>PLAYER</th>\n",
       "      <th>Mat</th>\n",
       "      <th>Inns</th>\n",
       "      <th>NO</th>\n",
       "      <th>Previous_year_runs</th>\n",
       "      <th>HS</th>\n",
       "      <th>Avg</th>\n",
       "      <th>BF</th>\n",
       "      <th>SR</th>\n",
       "      <th>100</th>\n",
       "      <th>50</th>\n",
       "      <th>4s</th>\n",
       "      <th>6s</th>\n",
       "    </tr>\n",
       "  </thead>\n",
       "  <tbody>\n",
       "    <tr>\n",
       "      <th>0</th>\n",
       "      <td>David Warner</td>\n",
       "      <td>12</td>\n",
       "      <td>12</td>\n",
       "      <td>2</td>\n",
       "      <td>692</td>\n",
       "      <td>100</td>\n",
       "      <td>69.20</td>\n",
       "      <td>481</td>\n",
       "      <td>143.86</td>\n",
       "      <td>1</td>\n",
       "      <td>8</td>\n",
       "      <td>57</td>\n",
       "      <td>21</td>\n",
       "    </tr>\n",
       "    <tr>\n",
       "      <th>1</th>\n",
       "      <td>KL Rahul</td>\n",
       "      <td>14</td>\n",
       "      <td>14</td>\n",
       "      <td>3</td>\n",
       "      <td>593</td>\n",
       "      <td>100</td>\n",
       "      <td>53.90</td>\n",
       "      <td>438</td>\n",
       "      <td>135.38</td>\n",
       "      <td>1</td>\n",
       "      <td>6</td>\n",
       "      <td>49</td>\n",
       "      <td>25</td>\n",
       "    </tr>\n",
       "    <tr>\n",
       "      <th>2</th>\n",
       "      <td>Quinton de Kock</td>\n",
       "      <td>16</td>\n",
       "      <td>16</td>\n",
       "      <td>1</td>\n",
       "      <td>529</td>\n",
       "      <td>81</td>\n",
       "      <td>35.26</td>\n",
       "      <td>398</td>\n",
       "      <td>132.91</td>\n",
       "      <td>0</td>\n",
       "      <td>4</td>\n",
       "      <td>45</td>\n",
       "      <td>25</td>\n",
       "    </tr>\n",
       "    <tr>\n",
       "      <th>3</th>\n",
       "      <td>Shikhar Dhawan</td>\n",
       "      <td>16</td>\n",
       "      <td>16</td>\n",
       "      <td>1</td>\n",
       "      <td>521</td>\n",
       "      <td>97</td>\n",
       "      <td>34.73</td>\n",
       "      <td>384</td>\n",
       "      <td>135.67</td>\n",
       "      <td>0</td>\n",
       "      <td>5</td>\n",
       "      <td>64</td>\n",
       "      <td>11</td>\n",
       "    </tr>\n",
       "    <tr>\n",
       "      <th>4</th>\n",
       "      <td>Andre Russell</td>\n",
       "      <td>14</td>\n",
       "      <td>13</td>\n",
       "      <td>4</td>\n",
       "      <td>510</td>\n",
       "      <td>80</td>\n",
       "      <td>56.66</td>\n",
       "      <td>249</td>\n",
       "      <td>204.81</td>\n",
       "      <td>0</td>\n",
       "      <td>4</td>\n",
       "      <td>31</td>\n",
       "      <td>52</td>\n",
       "    </tr>\n",
       "    <tr>\n",
       "      <th>...</th>\n",
       "      <td>...</td>\n",
       "      <td>...</td>\n",
       "      <td>...</td>\n",
       "      <td>...</td>\n",
       "      <td>...</td>\n",
       "      <td>...</td>\n",
       "      <td>...</td>\n",
       "      <td>...</td>\n",
       "      <td>...</td>\n",
       "      <td>...</td>\n",
       "      <td>...</td>\n",
       "      <td>...</td>\n",
       "      <td>...</td>\n",
       "    </tr>\n",
       "    <tr>\n",
       "      <th>95</th>\n",
       "      <td>Carlos Brathwaite</td>\n",
       "      <td>2</td>\n",
       "      <td>2</td>\n",
       "      <td>0</td>\n",
       "      <td>11</td>\n",
       "      <td>6</td>\n",
       "      <td>5.50</td>\n",
       "      <td>10</td>\n",
       "      <td>110.00</td>\n",
       "      <td>0</td>\n",
       "      <td>0</td>\n",
       "      <td>1</td>\n",
       "      <td>0</td>\n",
       "    </tr>\n",
       "    <tr>\n",
       "      <th>96</th>\n",
       "      <td>Ishant Sharma</td>\n",
       "      <td>13</td>\n",
       "      <td>3</td>\n",
       "      <td>3</td>\n",
       "      <td>10</td>\n",
       "      <td>10</td>\n",
       "      <td>0.00</td>\n",
       "      <td>3</td>\n",
       "      <td>333.33</td>\n",
       "      <td>0</td>\n",
       "      <td>0</td>\n",
       "      <td>1</td>\n",
       "      <td>1</td>\n",
       "    </tr>\n",
       "    <tr>\n",
       "      <th>97</th>\n",
       "      <td>Shakib Al Hasan</td>\n",
       "      <td>3</td>\n",
       "      <td>1</td>\n",
       "      <td>0</td>\n",
       "      <td>9</td>\n",
       "      <td>9</td>\n",
       "      <td>9.00</td>\n",
       "      <td>10</td>\n",
       "      <td>90.00</td>\n",
       "      <td>0</td>\n",
       "      <td>0</td>\n",
       "      <td>0</td>\n",
       "      <td>0</td>\n",
       "    </tr>\n",
       "    <tr>\n",
       "      <th>98</th>\n",
       "      <td>Pawan Negi</td>\n",
       "      <td>7</td>\n",
       "      <td>4</td>\n",
       "      <td>0</td>\n",
       "      <td>9</td>\n",
       "      <td>5</td>\n",
       "      <td>2.25</td>\n",
       "      <td>12</td>\n",
       "      <td>75.00</td>\n",
       "      <td>0</td>\n",
       "      <td>0</td>\n",
       "      <td>1</td>\n",
       "      <td>0</td>\n",
       "    </tr>\n",
       "    <tr>\n",
       "      <th>99</th>\n",
       "      <td>Tim Southee</td>\n",
       "      <td>3</td>\n",
       "      <td>1</td>\n",
       "      <td>1</td>\n",
       "      <td>9</td>\n",
       "      <td>9</td>\n",
       "      <td>0.00</td>\n",
       "      <td>9</td>\n",
       "      <td>100.00</td>\n",
       "      <td>0</td>\n",
       "      <td>0</td>\n",
       "      <td>0</td>\n",
       "      <td>0</td>\n",
       "    </tr>\n",
       "  </tbody>\n",
       "</table>\n",
       "<p>100 rows × 13 columns</p>\n",
       "</div>"
      ],
      "text/plain": [
       "               PLAYER  Mat  Inns  NO  Previous_year_runs   HS    Avg   BF  \\\n",
       "0        David Warner   12    12   2                 692  100  69.20  481   \n",
       "1            KL Rahul   14    14   3                 593  100  53.90  438   \n",
       "2     Quinton de Kock   16    16   1                 529   81  35.26  398   \n",
       "3      Shikhar Dhawan   16    16   1                 521   97  34.73  384   \n",
       "4       Andre Russell   14    13   4                 510   80  56.66  249   \n",
       "..                ...  ...   ...  ..                 ...  ...    ...  ...   \n",
       "95  Carlos Brathwaite    2     2   0                  11    6   5.50   10   \n",
       "96      Ishant Sharma   13     3   3                  10   10   0.00    3   \n",
       "97    Shakib Al Hasan    3     1   0                   9    9   9.00   10   \n",
       "98         Pawan Negi    7     4   0                   9    5   2.25   12   \n",
       "99        Tim Southee    3     1   1                   9    9   0.00    9   \n",
       "\n",
       "        SR  100  50  4s  6s  \n",
       "0   143.86    1   8  57  21  \n",
       "1   135.38    1   6  49  25  \n",
       "2   132.91    0   4  45  25  \n",
       "3   135.67    0   5  64  11  \n",
       "4   204.81    0   4  31  52  \n",
       "..     ...  ...  ..  ..  ..  \n",
       "95  110.00    0   0   1   0  \n",
       "96  333.33    0   0   1   1  \n",
       "97   90.00    0   0   0   0  \n",
       "98   75.00    0   0   1   0  \n",
       "99  100.00    0   0   0   0  \n",
       "\n",
       "[100 rows x 13 columns]"
      ]
     },
     "execution_count": 459,
     "metadata": {},
     "output_type": "execute_result"
    }
   ],
   "source": [
    "df2.rename(columns={'Present_year_runs':'Previous_year_runs'},inplace=True)\n",
    "df2"
   ]
  },
  {
   "cell_type": "code",
   "execution_count": 460,
   "metadata": {},
   "outputs": [],
   "source": [
    "X_pre=df2.drop('PLAYER',axis=1)\n",
    "test_pred=model.predict(X_pre)"
   ]
  },
  {
   "cell_type": "code",
   "execution_count": 461,
   "metadata": {},
   "outputs": [
    {
     "data": {
      "text/plain": [
       "array([585.587    , 530.9187   , 483.59448  , 481.73904  , 463.353    ,\n",
       "       441.08472  , 437.4157   , 415.40857  , 415.86234  , 404.38803  ,\n",
       "       406.12207  , 401.29596  , 398.10864  , 398.09     , 397.59637  ,\n",
       "       398.263    , 395.6958   , 396.709    , 398.7473   , 395.51157  ,\n",
       "       395.86084  , 373.6021   , 374.05508  , 374.86133  , 374.75397  ,\n",
       "       360.89053  , 352.3455   , 352.46255  , 344.2228   , 330.69183  ,\n",
       "       332.17157  , 322.43716  , 291.67242  , 278.9849   , 243.98843  ,\n",
       "       218.8183   , 218.9961   , 187.07387  , 185.2557   , 183.47389  ,\n",
       "       181.49228  , 179.62952  , 179.0687   , 177.3168   , 167.96344  ,\n",
       "       163.43187  , 156.1509   , 118.75358  , 100.86474  ,  99.149796 ,\n",
       "        97.5976   ,  96.2747   ,  91.11613  ,  90.68549  ,  89.56455  ,\n",
       "        85.16838  ,  83.40972  ,  82.097336 ,  80.435585 ,  79.5964   ,\n",
       "        74.181725 ,  71.864494 ,  71.828896 ,  67.74274  ,  66.80252  ,\n",
       "        66.49782  ,  63.535206 ,  62.087856 ,  29.887562 ,  25.182877 ,\n",
       "        21.38345  ,  22.152163 ,  22.03187  ,  21.386402 ,  20.05005  ,\n",
       "        19.051281 ,  18.726313 ,  19.493477 ,  16.123493 ,  14.332977 ,\n",
       "        13.969088 ,  12.9116955,  12.2676325,  11.448505 ,  12.146592 ,\n",
       "        11.769707 ,  11.296015 ,  10.09184  ,  10.42785  ,  10.53017  ,\n",
       "        10.243133 ,  10.008974 ,  10.139509 ,  10.150932 ,   9.847735 ,\n",
       "        10.088347 ,  10.181707 ,  10.517728 ,   9.98098  ,  10.082793 ],\n",
       "      dtype=float32)"
      ]
     },
     "execution_count": 461,
     "metadata": {},
     "output_type": "execute_result"
    }
   ],
   "source": [
    "test_pred"
   ]
  },
  {
   "cell_type": "code",
   "execution_count": 464,
   "metadata": {},
   "outputs": [],
   "source": [
    "player = df2[\"PLAYER\"].tolist()"
   ]
  },
  {
   "cell_type": "code",
   "execution_count": 471,
   "metadata": {},
   "outputs": [
    {
     "data": {
      "text/html": [
       "<div>\n",
       "<style scoped>\n",
       "    .dataframe tbody tr th:only-of-type {\n",
       "        vertical-align: middle;\n",
       "    }\n",
       "\n",
       "    .dataframe tbody tr th {\n",
       "        vertical-align: top;\n",
       "    }\n",
       "\n",
       "    .dataframe thead th {\n",
       "        text-align: right;\n",
       "    }\n",
       "</style>\n",
       "<table border=\"1\" class=\"dataframe\">\n",
       "  <thead>\n",
       "    <tr style=\"text-align: right;\">\n",
       "      <th></th>\n",
       "      <th>Total Runs in IPL 2020</th>\n",
       "    </tr>\n",
       "    <tr>\n",
       "      <th>Player Name</th>\n",
       "      <th></th>\n",
       "    </tr>\n",
       "  </thead>\n",
       "  <tbody>\n",
       "    <tr>\n",
       "      <th>David Warner</th>\n",
       "      <td>585.586975</td>\n",
       "    </tr>\n",
       "    <tr>\n",
       "      <th>KL Rahul</th>\n",
       "      <td>530.918701</td>\n",
       "    </tr>\n",
       "    <tr>\n",
       "      <th>Quinton de Kock</th>\n",
       "      <td>483.594482</td>\n",
       "    </tr>\n",
       "    <tr>\n",
       "      <th>Shikhar Dhawan</th>\n",
       "      <td>481.739044</td>\n",
       "    </tr>\n",
       "    <tr>\n",
       "      <th>Andre Russell</th>\n",
       "      <td>463.352997</td>\n",
       "    </tr>\n",
       "    <tr>\n",
       "      <th>...</th>\n",
       "      <td>...</td>\n",
       "    </tr>\n",
       "    <tr>\n",
       "      <th>Carlos Brathwaite</th>\n",
       "      <td>10.088347</td>\n",
       "    </tr>\n",
       "    <tr>\n",
       "      <th>Ishant Sharma</th>\n",
       "      <td>10.181707</td>\n",
       "    </tr>\n",
       "    <tr>\n",
       "      <th>Shakib Al Hasan</th>\n",
       "      <td>10.517728</td>\n",
       "    </tr>\n",
       "    <tr>\n",
       "      <th>Pawan Negi</th>\n",
       "      <td>9.980980</td>\n",
       "    </tr>\n",
       "    <tr>\n",
       "      <th>Tim Southee</th>\n",
       "      <td>10.082793</td>\n",
       "    </tr>\n",
       "  </tbody>\n",
       "</table>\n",
       "<p>100 rows × 1 columns</p>\n",
       "</div>"
      ],
      "text/plain": [
       "                   Total Runs in IPL 2020\n",
       "Player Name                              \n",
       "David Warner                   585.586975\n",
       "KL Rahul                       530.918701\n",
       "Quinton de Kock                483.594482\n",
       "Shikhar Dhawan                 481.739044\n",
       "Andre Russell                  463.352997\n",
       "...                                   ...\n",
       "Carlos Brathwaite               10.088347\n",
       "Ishant Sharma                   10.181707\n",
       "Shakib Al Hasan                 10.517728\n",
       "Pawan Negi                       9.980980\n",
       "Tim Southee                     10.082793\n",
       "\n",
       "[100 rows x 1 columns]"
      ]
     },
     "execution_count": 471,
     "metadata": {},
     "output_type": "execute_result"
    }
   ],
   "source": [
    "df_final = pd.DataFrame({\"Player Name\" : player,\n",
    "                   \"Total Runs in IPL 2020\" : test_pred}, columns = [\"Player Name\", \"Total Runs in IPL 2020\"]).set_index('Player Name')\n",
    "df_final"
   ]
  },
  {
   "cell_type": "code",
   "execution_count": 472,
   "metadata": {},
   "outputs": [],
   "source": [
    "df_final.to_csv(\"Team Name-Outliers.csv\")"
   ]
  }
 ],
 "metadata": {
  "kernelspec": {
   "display_name": "Python 3",
   "language": "python",
   "name": "python3"
  },
  "language_info": {
   "codemirror_mode": {
    "name": "ipython",
    "version": 3
   },
   "file_extension": ".py",
   "mimetype": "text/x-python",
   "name": "python",
   "nbconvert_exporter": "python",
   "pygments_lexer": "ipython3",
   "version": "3.8.3"
  }
 },
 "nbformat": 4,
 "nbformat_minor": 4
}
